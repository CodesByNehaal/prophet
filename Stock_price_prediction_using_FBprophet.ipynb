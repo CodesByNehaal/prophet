{
  "cells": [
    {
      "cell_type": "markdown",
      "metadata": {
        "id": "view-in-github",
        "colab_type": "text"
      },
      "source": [
        "<a href=\"https://colab.research.google.com/github/CodesByNehaal/prophet/blob/main/Stock_price_prediction_using_FBprophet.ipynb\" target=\"_parent\"><img src=\"https://colab.research.google.com/assets/colab-badge.svg\" alt=\"Open In Colab\"/></a>"
      ]
    },
    {
      "cell_type": "code",
      "execution_count": null,
      "id": "51af2874",
      "metadata": {
        "colab": {
          "base_uri": "https://localhost:8080/"
        },
        "id": "51af2874",
        "outputId": "e90d332f-8883-4dd0-f785-cebf54558a86"
      },
      "outputs": [
        {
          "output_type": "stream",
          "name": "stdout",
          "text": [
            "Requirement already satisfied: fbprophet in /usr/local/lib/python3.7/dist-packages (0.7.1)\n",
            "Requirement already satisfied: Cython>=0.22 in /usr/local/lib/python3.7/dist-packages (from fbprophet) (0.29.28)\n",
            "Requirement already satisfied: cmdstanpy==0.9.5 in /usr/local/lib/python3.7/dist-packages (from fbprophet) (0.9.5)\n",
            "Requirement already satisfied: pystan>=2.14 in /usr/local/lib/python3.7/dist-packages (from fbprophet) (2.19.1.1)\n",
            "Requirement already satisfied: numpy>=1.15.4 in /usr/local/lib/python3.7/dist-packages (from fbprophet) (1.21.6)\n",
            "Requirement already satisfied: pandas>=1.0.4 in /usr/local/lib/python3.7/dist-packages (from fbprophet) (1.3.5)\n",
            "Requirement already satisfied: matplotlib>=2.0.0 in /usr/local/lib/python3.7/dist-packages (from fbprophet) (3.2.2)\n",
            "Requirement already satisfied: LunarCalendar>=0.0.9 in /usr/local/lib/python3.7/dist-packages (from fbprophet) (0.0.9)\n",
            "Requirement already satisfied: convertdate>=2.1.2 in /usr/local/lib/python3.7/dist-packages (from fbprophet) (2.4.0)\n",
            "Requirement already satisfied: holidays>=0.10.2 in /usr/local/lib/python3.7/dist-packages (from fbprophet) (0.10.5.2)\n",
            "Requirement already satisfied: setuptools-git>=1.2 in /usr/local/lib/python3.7/dist-packages (from fbprophet) (1.2)\n",
            "Requirement already satisfied: python-dateutil>=2.8.0 in /usr/local/lib/python3.7/dist-packages (from fbprophet) (2.8.2)\n",
            "Requirement already satisfied: tqdm>=4.36.1 in /usr/local/lib/python3.7/dist-packages (from fbprophet) (4.64.0)\n",
            "Requirement already satisfied: pymeeus<=1,>=0.3.13 in /usr/local/lib/python3.7/dist-packages (from convertdate>=2.1.2->fbprophet) (0.5.11)\n",
            "Requirement already satisfied: korean-lunar-calendar in /usr/local/lib/python3.7/dist-packages (from holidays>=0.10.2->fbprophet) (0.2.1)\n",
            "Requirement already satisfied: six in /usr/local/lib/python3.7/dist-packages (from holidays>=0.10.2->fbprophet) (1.15.0)\n",
            "Requirement already satisfied: hijri-converter in /usr/local/lib/python3.7/dist-packages (from holidays>=0.10.2->fbprophet) (2.2.3)\n",
            "Requirement already satisfied: pytz in /usr/local/lib/python3.7/dist-packages (from LunarCalendar>=0.0.9->fbprophet) (2022.1)\n",
            "Requirement already satisfied: ephem>=3.7.5.3 in /usr/local/lib/python3.7/dist-packages (from LunarCalendar>=0.0.9->fbprophet) (4.1.3)\n",
            "Requirement already satisfied: pyparsing!=2.0.4,!=2.1.2,!=2.1.6,>=2.0.1 in /usr/local/lib/python3.7/dist-packages (from matplotlib>=2.0.0->fbprophet) (3.0.8)\n",
            "Requirement already satisfied: kiwisolver>=1.0.1 in /usr/local/lib/python3.7/dist-packages (from matplotlib>=2.0.0->fbprophet) (1.4.2)\n",
            "Requirement already satisfied: cycler>=0.10 in /usr/local/lib/python3.7/dist-packages (from matplotlib>=2.0.0->fbprophet) (0.11.0)\n",
            "Requirement already satisfied: typing-extensions in /usr/local/lib/python3.7/dist-packages (from kiwisolver>=1.0.1->matplotlib>=2.0.0->fbprophet) (4.2.0)\n",
            "Requirement already satisfied: yfinance in /usr/local/lib/python3.7/dist-packages (0.1.70)\n",
            "Requirement already satisfied: numpy>=1.15 in /usr/local/lib/python3.7/dist-packages (from yfinance) (1.21.6)\n",
            "Requirement already satisfied: pandas>=0.24.0 in /usr/local/lib/python3.7/dist-packages (from yfinance) (1.3.5)\n",
            "Requirement already satisfied: lxml>=4.5.1 in /usr/local/lib/python3.7/dist-packages (from yfinance) (4.8.0)\n",
            "Requirement already satisfied: multitasking>=0.0.7 in /usr/local/lib/python3.7/dist-packages (from yfinance) (0.0.10)\n",
            "Requirement already satisfied: requests>=2.26 in /usr/local/lib/python3.7/dist-packages (from yfinance) (2.27.1)\n",
            "Requirement already satisfied: python-dateutil>=2.7.3 in /usr/local/lib/python3.7/dist-packages (from pandas>=0.24.0->yfinance) (2.8.2)\n",
            "Requirement already satisfied: pytz>=2017.3 in /usr/local/lib/python3.7/dist-packages (from pandas>=0.24.0->yfinance) (2022.1)\n",
            "Requirement already satisfied: six>=1.5 in /usr/local/lib/python3.7/dist-packages (from python-dateutil>=2.7.3->pandas>=0.24.0->yfinance) (1.15.0)\n",
            "Requirement already satisfied: certifi>=2017.4.17 in /usr/local/lib/python3.7/dist-packages (from requests>=2.26->yfinance) (2021.10.8)\n",
            "Requirement already satisfied: idna<4,>=2.5 in /usr/local/lib/python3.7/dist-packages (from requests>=2.26->yfinance) (2.10)\n",
            "Requirement already satisfied: urllib3<1.27,>=1.21.1 in /usr/local/lib/python3.7/dist-packages (from requests>=2.26->yfinance) (1.24.3)\n",
            "Requirement already satisfied: charset-normalizer~=2.0.0 in /usr/local/lib/python3.7/dist-packages (from requests>=2.26->yfinance) (2.0.12)\n"
          ]
        }
      ],
      "source": [
        "#*****************************************************************PART 3******************************************************************\n",
        "!pip install fbprophet\n",
        "!pip install yfinance\n"
      ]
    },
    {
      "cell_type": "code",
      "source": [
        "#IMPORTING ALL THE NECESSARY PACKAGES.\n",
        "import matplotlib.pyplot as plt                                                 #Importing matplotlib to plot and analyse data.\n",
        "from pandas import read_csv\n",
        "from fbprophet import Prophet                                                   #Importing prophet (prediction and forecasting library.)\n",
        "import yfinance as yf                                                           #importing yahoo finance to generate historic data. "
      ],
      "metadata": {
        "id": "eGpplrlgeiYB"
      },
      "id": "eGpplrlgeiYB",
      "execution_count": null,
      "outputs": []
    },
    {
      "cell_type": "code",
      "execution_count": null,
      "id": "08316242",
      "metadata": {
        "colab": {
          "base_uri": "https://localhost:8080/"
        },
        "id": "08316242",
        "outputId": "8462f34d-6e3c-4804-8c38-d26b628fdf34"
      },
      "outputs": [
        {
          "output_type": "stream",
          "name": "stdout",
          "text": [
            "ENTER THE STOCK WHOSE PREDICTION YOU WANT : TATAPOWER\n",
            "[*********************100%***********************]  1 of 1 completed\n",
            "                  Open        High         Low       Close   Adj Close  \\\n",
            "Date                                                                     \n",
            "2022-04-25  248.000000  251.550003  244.699997  247.350006  247.350006   \n",
            "2022-04-26  251.149994  251.449997  248.050003  248.850006  248.850006   \n",
            "2022-04-27  247.800003  255.250000  245.500000  247.350006  247.350006   \n",
            "2022-04-28  250.899994  250.899994  244.399994  248.250000  248.250000   \n",
            "2022-04-29  250.899994  253.199997  240.850006  242.350006  242.350006   \n",
            "\n",
            "              Volume  \n",
            "Date                  \n",
            "2022-04-25  24620801  \n",
            "2022-04-26  17965504  \n",
            "2022-04-27  32027943  \n",
            "2022-04-28  20911099  \n",
            "2022-04-29  26234765  \n"
          ]
        }
      ],
      "source": [
        "ticker = input(\"ENTER THE STOCK WHOSE PREDICTION YOU WANT : \")                  #taking stock name from the user.\n",
        "data_frame = yf.download(ticker+'.NS', start='2017-04-30' , end='2022-04-30')   #using yf.download() downloading historic data for a stock for previous 5 years.\n",
        "print(data_frame.tail())\n"
      ]
    },
    {
      "cell_type": "code",
      "execution_count": null,
      "id": "96b9e998",
      "metadata": {
        "id": "96b9e998",
        "colab": {
          "base_uri": "https://localhost:8080/",
          "height": 206
        },
        "outputId": "6cda487b-9c36-4928-a57b-fe257fc901c9"
      },
      "outputs": [
        {
          "output_type": "execute_result",
          "data": {
            "text/plain": [
              "           Date        Open        High         Low       Close   Adj Close  \\\n",
              "1231 2022-04-25  248.000000  251.550003  244.699997  247.350006  247.350006   \n",
              "1232 2022-04-26  251.149994  251.449997  248.050003  248.850006  248.850006   \n",
              "1233 2022-04-27  247.800003  255.250000  245.500000  247.350006  247.350006   \n",
              "1234 2022-04-28  250.899994  250.899994  244.399994  248.250000  248.250000   \n",
              "1235 2022-04-29  250.899994  253.199997  240.850006  242.350006  242.350006   \n",
              "\n",
              "        Volume         ds           y  \n",
              "1231  24620801 2022-04-25  247.350006  \n",
              "1232  17965504 2022-04-26  248.850006  \n",
              "1233  32027943 2022-04-27  247.350006  \n",
              "1234  20911099 2022-04-28  248.250000  \n",
              "1235  26234765 2022-04-29  242.350006  "
            ],
            "text/html": [
              "\n",
              "  <div id=\"df-4b3fb5b7-613e-48dd-8b90-46874980caae\">\n",
              "    <div class=\"colab-df-container\">\n",
              "      <div>\n",
              "<style scoped>\n",
              "    .dataframe tbody tr th:only-of-type {\n",
              "        vertical-align: middle;\n",
              "    }\n",
              "\n",
              "    .dataframe tbody tr th {\n",
              "        vertical-align: top;\n",
              "    }\n",
              "\n",
              "    .dataframe thead th {\n",
              "        text-align: right;\n",
              "    }\n",
              "</style>\n",
              "<table border=\"1\" class=\"dataframe\">\n",
              "  <thead>\n",
              "    <tr style=\"text-align: right;\">\n",
              "      <th></th>\n",
              "      <th>Date</th>\n",
              "      <th>Open</th>\n",
              "      <th>High</th>\n",
              "      <th>Low</th>\n",
              "      <th>Close</th>\n",
              "      <th>Adj Close</th>\n",
              "      <th>Volume</th>\n",
              "      <th>ds</th>\n",
              "      <th>y</th>\n",
              "    </tr>\n",
              "  </thead>\n",
              "  <tbody>\n",
              "    <tr>\n",
              "      <th>1231</th>\n",
              "      <td>2022-04-25</td>\n",
              "      <td>248.000000</td>\n",
              "      <td>251.550003</td>\n",
              "      <td>244.699997</td>\n",
              "      <td>247.350006</td>\n",
              "      <td>247.350006</td>\n",
              "      <td>24620801</td>\n",
              "      <td>2022-04-25</td>\n",
              "      <td>247.350006</td>\n",
              "    </tr>\n",
              "    <tr>\n",
              "      <th>1232</th>\n",
              "      <td>2022-04-26</td>\n",
              "      <td>251.149994</td>\n",
              "      <td>251.449997</td>\n",
              "      <td>248.050003</td>\n",
              "      <td>248.850006</td>\n",
              "      <td>248.850006</td>\n",
              "      <td>17965504</td>\n",
              "      <td>2022-04-26</td>\n",
              "      <td>248.850006</td>\n",
              "    </tr>\n",
              "    <tr>\n",
              "      <th>1233</th>\n",
              "      <td>2022-04-27</td>\n",
              "      <td>247.800003</td>\n",
              "      <td>255.250000</td>\n",
              "      <td>245.500000</td>\n",
              "      <td>247.350006</td>\n",
              "      <td>247.350006</td>\n",
              "      <td>32027943</td>\n",
              "      <td>2022-04-27</td>\n",
              "      <td>247.350006</td>\n",
              "    </tr>\n",
              "    <tr>\n",
              "      <th>1234</th>\n",
              "      <td>2022-04-28</td>\n",
              "      <td>250.899994</td>\n",
              "      <td>250.899994</td>\n",
              "      <td>244.399994</td>\n",
              "      <td>248.250000</td>\n",
              "      <td>248.250000</td>\n",
              "      <td>20911099</td>\n",
              "      <td>2022-04-28</td>\n",
              "      <td>248.250000</td>\n",
              "    </tr>\n",
              "    <tr>\n",
              "      <th>1235</th>\n",
              "      <td>2022-04-29</td>\n",
              "      <td>250.899994</td>\n",
              "      <td>253.199997</td>\n",
              "      <td>240.850006</td>\n",
              "      <td>242.350006</td>\n",
              "      <td>242.350006</td>\n",
              "      <td>26234765</td>\n",
              "      <td>2022-04-29</td>\n",
              "      <td>242.350006</td>\n",
              "    </tr>\n",
              "  </tbody>\n",
              "</table>\n",
              "</div>\n",
              "      <button class=\"colab-df-convert\" onclick=\"convertToInteractive('df-4b3fb5b7-613e-48dd-8b90-46874980caae')\"\n",
              "              title=\"Convert this dataframe to an interactive table.\"\n",
              "              style=\"display:none;\">\n",
              "        \n",
              "  <svg xmlns=\"http://www.w3.org/2000/svg\" height=\"24px\"viewBox=\"0 0 24 24\"\n",
              "       width=\"24px\">\n",
              "    <path d=\"M0 0h24v24H0V0z\" fill=\"none\"/>\n",
              "    <path d=\"M18.56 5.44l.94 2.06.94-2.06 2.06-.94-2.06-.94-.94-2.06-.94 2.06-2.06.94zm-11 1L8.5 8.5l.94-2.06 2.06-.94-2.06-.94L8.5 2.5l-.94 2.06-2.06.94zm10 10l.94 2.06.94-2.06 2.06-.94-2.06-.94-.94-2.06-.94 2.06-2.06.94z\"/><path d=\"M17.41 7.96l-1.37-1.37c-.4-.4-.92-.59-1.43-.59-.52 0-1.04.2-1.43.59L10.3 9.45l-7.72 7.72c-.78.78-.78 2.05 0 2.83L4 21.41c.39.39.9.59 1.41.59.51 0 1.02-.2 1.41-.59l7.78-7.78 2.81-2.81c.8-.78.8-2.07 0-2.86zM5.41 20L4 18.59l7.72-7.72 1.47 1.35L5.41 20z\"/>\n",
              "  </svg>\n",
              "      </button>\n",
              "      \n",
              "  <style>\n",
              "    .colab-df-container {\n",
              "      display:flex;\n",
              "      flex-wrap:wrap;\n",
              "      gap: 12px;\n",
              "    }\n",
              "\n",
              "    .colab-df-convert {\n",
              "      background-color: #E8F0FE;\n",
              "      border: none;\n",
              "      border-radius: 50%;\n",
              "      cursor: pointer;\n",
              "      display: none;\n",
              "      fill: #1967D2;\n",
              "      height: 32px;\n",
              "      padding: 0 0 0 0;\n",
              "      width: 32px;\n",
              "    }\n",
              "\n",
              "    .colab-df-convert:hover {\n",
              "      background-color: #E2EBFA;\n",
              "      box-shadow: 0px 1px 2px rgba(60, 64, 67, 0.3), 0px 1px 3px 1px rgba(60, 64, 67, 0.15);\n",
              "      fill: #174EA6;\n",
              "    }\n",
              "\n",
              "    [theme=dark] .colab-df-convert {\n",
              "      background-color: #3B4455;\n",
              "      fill: #D2E3FC;\n",
              "    }\n",
              "\n",
              "    [theme=dark] .colab-df-convert:hover {\n",
              "      background-color: #434B5C;\n",
              "      box-shadow: 0px 1px 3px 1px rgba(0, 0, 0, 0.15);\n",
              "      filter: drop-shadow(0px 1px 2px rgba(0, 0, 0, 0.3));\n",
              "      fill: #FFFFFF;\n",
              "    }\n",
              "  </style>\n",
              "\n",
              "      <script>\n",
              "        const buttonEl =\n",
              "          document.querySelector('#df-4b3fb5b7-613e-48dd-8b90-46874980caae button.colab-df-convert');\n",
              "        buttonEl.style.display =\n",
              "          google.colab.kernel.accessAllowed ? 'block' : 'none';\n",
              "\n",
              "        async function convertToInteractive(key) {\n",
              "          const element = document.querySelector('#df-4b3fb5b7-613e-48dd-8b90-46874980caae');\n",
              "          const dataTable =\n",
              "            await google.colab.kernel.invokeFunction('convertToInteractive',\n",
              "                                                     [key], {});\n",
              "          if (!dataTable) return;\n",
              "\n",
              "          const docLinkHtml = 'Like what you see? Visit the ' +\n",
              "            '<a target=\"_blank\" href=https://colab.research.google.com/notebooks/data_table.ipynb>data table notebook</a>'\n",
              "            + ' to learn more about interactive tables.';\n",
              "          element.innerHTML = '';\n",
              "          dataTable['output_type'] = 'display_data';\n",
              "          await google.colab.output.renderOutput(dataTable, element);\n",
              "          const docLink = document.createElement('div');\n",
              "          docLink.innerHTML = docLinkHtml;\n",
              "          element.appendChild(docLink);\n",
              "        }\n",
              "      </script>\n",
              "    </div>\n",
              "  </div>\n",
              "  "
            ]
          },
          "metadata": {},
          "execution_count": 62
        }
      ],
      "source": [
        "data_frame = data_frame.reset_index()                                           #indexing data_frame \n",
        "data_frame[['ds','y']] = data_frame[['Date','Adj Close']]                       #preparing expected column names\n",
        "data_frame.tail()"
      ]
    },
    {
      "cell_type": "code",
      "execution_count": null,
      "id": "4c5f378a",
      "metadata": {
        "scrolled": true,
        "colab": {
          "base_uri": "https://localhost:8080/"
        },
        "id": "4c5f378a",
        "outputId": "a4b3b9dc-a168-4f2d-876e-df84ac6764b4"
      },
      "outputs": [
        {
          "output_type": "stream",
          "name": "stderr",
          "text": [
            "INFO:fbprophet:Disabling daily seasonality. Run prophet with daily_seasonality=True to override this.\n"
          ]
        }
      ],
      "source": [
        "model = Prophet()                                                               #creating an instant of prophet class in model.\n",
        "model.fit(data_frame)                                                           #fitting data_frame to the model.\n",
        "future = model.make_future_dataframe(365)                                       #making future dataframe for 365 days and storing the date values in future.\n",
        "forecast = model.predict(future)                                                #using predict function of python, predicting the values for future data values and storing it in forecast.\n"
      ]
    },
    {
      "cell_type": "code",
      "execution_count": null,
      "id": "b257752a",
      "metadata": {
        "id": "b257752a",
        "colab": {
          "base_uri": "https://localhost:8080/"
        },
        "outputId": "8cb22a82-7a43-4071-b9ec-24273762e142"
      },
      "outputs": [
        {
          "output_type": "stream",
          "name": "stdout",
          "text": [
            "          ds       yhat  yhat_lower  yhat_upper\n",
            "0 2017-05-02  67.184308   54.365029   79.621118\n",
            "1 2017-05-03  67.296526   55.049952   79.292514\n",
            "2 2017-05-04  67.117464   55.128900   78.878217\n",
            "3 2017-05-05  66.691679   53.535816   79.380150\n",
            "4 2017-05-08  67.068565   54.941319   78.720464\n"
          ]
        }
      ],
      "source": [
        "print(forecast[['ds', 'yhat', 'yhat_lower', 'yhat_upper']].head())\n"
      ]
    },
    {
      "cell_type": "code",
      "source": [
        "model.plot(forecast)                                                            #plotting the values in forecast using atplotlib.\n",
        "plt.show()                                                                      #displaying the graph."
      ],
      "metadata": {
        "colab": {
          "base_uri": "https://localhost:8080/",
          "height": 441
        },
        "id": "1agb___bnN8i",
        "outputId": "e64285c5-0ae1-4022-ad3b-e96e8992bd0d"
      },
      "id": "1agb___bnN8i",
      "execution_count": null,
      "outputs": [
        {
          "output_type": "display_data",
          "data": {
            "text/plain": [
              "<Figure size 720x432 with 1 Axes>"
            ],
            "image/png": "[encoded data removed]"
          },
          "metadata": {}
        }
      ]
    }
  ],
  "metadata": {
    "kernelspec": {
      "display_name": "Python 3",
      "language": "python",
      "name": "python3"
    },
    "language_info": {
      "codemirror_mode": {
        "name": "ipython",
        "version": 3
      },
      "file_extension": ".py",
      "mimetype": "text/x-python",
      "name": "python",
      "nbconvert_exporter": "python",
      "pygments_lexer": "ipython3",
      "version": "3.8.8"
    },
    "colab": {
      "name": "Stock price prediction using FBprophet.ipynb",
      "provenance": [],
      "collapsed_sections": [],
      "include_colab_link": true
    }
  },
  "nbformat": 4,
  "nbformat_minor": 5
}